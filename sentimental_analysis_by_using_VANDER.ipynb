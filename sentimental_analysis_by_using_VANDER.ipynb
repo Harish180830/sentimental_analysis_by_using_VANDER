{
  "nbformat": 4,
  "nbformat_minor": 0,
  "metadata": {
    "colab": {
      "provenance": []
    },
    "kernelspec": {
      "name": "python3",
      "display_name": "Python 3"
    },
    "language_info": {
      "name": "python"
    }
  },
  "cells": [
    {
      "cell_type": "code",
      "execution_count": 1,
      "metadata": {
        "colab": {
          "base_uri": "https://localhost:8080/"
        },
        "id": "WYMYFwYRDpaG",
        "outputId": "6dc2c646-42dc-4560-fc51-46c7cd722494"
      },
      "outputs": [
        {
          "output_type": "stream",
          "name": "stdout",
          "text": [
            "Collecting vaderSentiment\n",
            "  Downloading vaderSentiment-3.3.2-py2.py3-none-any.whl.metadata (572 bytes)\n",
            "Requirement already satisfied: requests in /usr/local/lib/python3.11/dist-packages (from vaderSentiment) (2.32.3)\n",
            "Requirement already satisfied: charset-normalizer<4,>=2 in /usr/local/lib/python3.11/dist-packages (from requests->vaderSentiment) (3.4.2)\n",
            "Requirement already satisfied: idna<4,>=2.5 in /usr/local/lib/python3.11/dist-packages (from requests->vaderSentiment) (3.10)\n",
            "Requirement already satisfied: urllib3<3,>=1.21.1 in /usr/local/lib/python3.11/dist-packages (from requests->vaderSentiment) (2.4.0)\n",
            "Requirement already satisfied: certifi>=2017.4.17 in /usr/local/lib/python3.11/dist-packages (from requests->vaderSentiment) (2025.7.14)\n",
            "Downloading vaderSentiment-3.3.2-py2.py3-none-any.whl (125 kB)\n",
            "\u001b[2K   \u001b[90m━━━━━━━━━━━━━━━━━━━━━━━━━━━━━━━━━━━━━━━━\u001b[0m \u001b[32m126.0/126.0 kB\u001b[0m \u001b[31m2.8 MB/s\u001b[0m eta \u001b[36m0:00:00\u001b[0m\n",
            "\u001b[?25hInstalling collected packages: vaderSentiment\n",
            "Successfully installed vaderSentiment-3.3.2\n"
          ]
        }
      ],
      "source": [
        "pip install vaderSentiment\n"
      ]
    },
    {
      "cell_type": "code",
      "source": [
        "from vaderSentiment.vaderSentiment import SentimentIntensityAnalyzer\n",
        "\n",
        "# Create the analyzer object\n",
        "analyzer = SentimentIntensityAnalyzer()\n",
        "\n",
        "# Input sentence\n",
        "sentence = input(\"Enter a sentence: \")\n",
        "\n",
        "# Get polarity scores\n",
        "scores = analyzer.polarity_scores(sentence)\n",
        "\n",
        "# Extract the compound score\n",
        "compound = scores['compound']\n",
        "\n",
        "# Decide sentiment category\n",
        "if compound >= 0.05:\n",
        "    sentiment = \"Positive 😊\"\n",
        "elif compound <= -0.05:\n",
        "    sentiment = \"Negative 😞\"\n",
        "else:\n",
        "    sentiment = \"Neutral 😐\"\n",
        "\n",
        "print(f\"Sentence: {sentence}\")\n",
        "print(f\"Sentiment: {sentiment}\")\n",
        "print(f\"Detailed Scores: {scores}\")\n"
      ],
      "metadata": {
        "colab": {
          "base_uri": "https://localhost:8080/"
        },
        "id": "qEgOrBi_DuFp",
        "outputId": "0570a59b-404e-44d2-9a58-e9a871e006cc"
      },
      "execution_count": 3,
      "outputs": [
        {
          "output_type": "stream",
          "name": "stdout",
          "text": [
            "Enter a sentence: I like her so much but i does not her talk\n",
            "Sentence: I like her so much but i does not her talk\n",
            "Sentiment: Positive 😊\n",
            "Detailed Scores: {'neg': 0.0, 'neu': 0.851, 'pos': 0.149, 'compound': 0.1901}\n"
          ]
        }
      ]
    }
  ]
}